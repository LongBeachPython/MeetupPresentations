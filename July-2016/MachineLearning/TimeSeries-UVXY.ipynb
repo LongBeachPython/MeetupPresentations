{
 "cells": [
  {
   "cell_type": "markdown",
   "metadata": {},
   "source": [
    "# Time Series Prediction Example\n",
    "\n",
    "Time series prediction is an interesting topic.  Everything from predicting electricity usage, sunspots to changes in equity prices can benefit from robust prediction methods.  In this article, I utilize Scikit-Learn and the Random Forest regression method\n",
    "\n",
    "We use Yahoo finance to import the following equity data:\n",
    "1. <b>UVXY</b> (this is the timeseries that we will be trying to predict)\n",
    "\n",
    "First, lets do a little bit of setup.  We import the necessary libraries and get our data structures initialized.\n",
    "\n",
    "Major Libraries Used:\n",
    "* Pandas\n",
    "* MatPlotLib\n",
    "* Scikit-Learn    --  Random Forest Ensemble"
   ]
  },
  {
   "cell_type": "code",
   "execution_count": 30,
   "metadata": {
    "collapsed": false
   },
   "outputs": [],
   "source": [
    "%matplotlib inline\n",
    "import pandas as pd\n",
    "import datetime\n",
    "from pandas.io import data, wb\n",
    "import matplotlib.pyplot as plt\n",
    "import time\n",
    "\n",
    "# import Random Forest Regressor from sklearn\n",
    "from sklearn.ensemble import RandomForestRegressor\n",
    "import numpy as np\n",
    "global ts\n",
    "\n",
    "start_date='2016-01-01'\n",
    "end_date='2016-07-27'\n",
    "\n",
    "symbols = ['UVXY']\n",
    "ts = data.DataReader(symbols, \"yahoo\", start_date, end_date)\n",
    "uvxy_df = ts.swapaxes('items', 'minor').UVXY"
   ]
  },
  {
   "cell_type": "markdown",
   "metadata": {},
   "source": [
    "### Lets look at the raw price data\n",
    "\n",
    "We create a new DataFrame to hold the data, as well as the calculated Delta. We also print the last few entries of the timeseries UVXY to ensure everything has been set up properly."
   ]
  },
  {
   "cell_type": "code",
   "execution_count": 31,
   "metadata": {
    "collapsed": false
   },
   "outputs": [
    {
     "name": "stdout",
     "output_type": "stream",
     "text": [
      "                 Open       High        Low      Close      Volume  Adj Close\n",
      "Date                                                                         \n",
      "2016-07-21   6.120000   6.570000   6.020000   6.410000  11509400.0  32.050000\n",
      "2016-07-22   6.320000   6.420000   5.970000   6.100000  43777300.0  30.500000\n",
      "2016-07-25  30.049999  32.430000  29.629999  30.200001  20725400.0  30.200001\n",
      "2016-07-26  30.200001  31.330000  29.549999  29.629999  21639000.0  29.629999\n",
      "2016-07-27  28.750000  30.459999  27.700001  28.250000  25730500.0  28.250000\n"
     ]
    },
    {
     "data": {
      "image/png": "[encoded data removed]",
      "text/plain": [
       "<matplotlib.figure.Figure at 0x7fe9e436e828>"
      ]
     },
     "metadata": {},
     "output_type": "display_data"
    }
   ],
   "source": [
    "print(uvxy_df.tail())\n",
    "plt.plot(uvxy_df['Adj Close'].values,'-b',label='data')\n",
    "plt.show()"
   ]
  },
  {
   "cell_type": "markdown",
   "metadata": {},
   "source": [
    "### Utilize Adjusted prices and take Pct Change (Mean Reverting)\n",
    "Prices of equities can split (or reverse split) over time causing disruption in the underlying timeseries.  This is something we do not want, so we will be utilizing adjusted prices."
   ]
  },
  {
   "cell_type": "code",
   "execution_count": 32,
   "metadata": {
    "collapsed": false
   },
   "outputs": [
    {
     "name": "stdout",
     "output_type": "stream",
     "text": [
      "                 Open       High        Low      Close      Volume  Adj Close  \\\n",
      "Date                                                                            \n",
      "2016-07-21   6.120000   6.570000   6.020000   6.410000  11509400.0  32.050000   \n",
      "2016-07-22   6.320000   6.420000   5.970000   6.100000  43777300.0  30.500000   \n",
      "2016-07-25  30.049999  32.430000  29.629999  30.200001  20725400.0  30.200001   \n",
      "2016-07-26  30.200001  31.330000  29.549999  29.629999  21639000.0  29.629999   \n",
      "2016-07-27  28.750000  30.459999  27.700001  28.250000  25730500.0  28.250000   \n",
      "\n",
      "            Pct Change  Direction  \n",
      "Date                               \n",
      "2016-07-21    5.427632        1.0  \n",
      "2016-07-22   -4.836193       -1.0  \n",
      "2016-07-25   -0.983603       -1.0  \n",
      "2016-07-26   -1.887424       -1.0  \n",
      "2016-07-27   -4.657439       -1.0  \n"
     ]
    },
    {
     "data": {
      "image/png": "[encoded data removed]",
      "text/plain": [
       "<matplotlib.figure.Figure at 0x7fe9e55463c8>"
      ]
     },
     "metadata": {},
     "output_type": "display_data"
    }
   ],
   "source": [
    "# Obtain ratio between close & adjusted closeyao    \n",
    "closeratio = uvxy_df['Adj Close']/uvxy_df['Close']\n",
    "uvxy_df['Pct Change'] = uvxy_df['Adj Close'].pct_change()*100\n",
    "uvxy_df['Direction'] = np.sign(uvxy_df['Pct Change'])\n",
    "\n",
    "print(uvxy_df.tail())\n",
    "plt.plot(uvxy_df['Pct Change'].values,'-b',label='data')\n",
    "plt.show()"
   ]
  },
  {
   "cell_type": "markdown",
   "metadata": {},
   "source": [
    "## Define the input size to the model (lagged inputs) and model size."
   ]
  },
  {
   "cell_type": "code",
   "execution_count": 33,
   "metadata": {
    "collapsed": false
   },
   "outputs": [
    {
     "name": "stdout",
     "output_type": "stream",
     "text": [
      "            Pct Change  Lag1_Change  Lag2_Change  Lag3_Change  Lag4_Change\n",
      "Date                                                                      \n",
      "2016-07-21    5.427632    -5.148206    -0.465842    -3.736921    -0.741840\n",
      "2016-07-22   -4.836193     5.427632    -5.148206    -0.465842    -3.736921\n",
      "2016-07-25   -0.983603    -4.836193     5.427632    -5.148206    -0.465842\n",
      "2016-07-26   -1.887424    -0.983603    -4.836193     5.427632    -5.148206\n",
      "2016-07-27   -4.657439    -1.887424    -0.983603    -4.836193     5.427632\n",
      "\n",
      "Date\n",
      "2016-07-21    5.427632\n",
      "2016-07-22   -4.836193\n",
      "2016-07-25   -0.983603\n",
      "2016-07-26   -1.887424\n",
      "2016-07-27   -4.657439\n",
      "Name: Pct Change, dtype: float64\n",
      "(137, 5)\n",
      "(137,)\n"
     ]
    }
   ],
   "source": [
    "testSize = 25  # Size of the data we want to fit\n",
    "inputSize = 4  # number of lagged inputs to create\n",
    "\n",
    "uvxy_df.dropna(how='any',inplace=True)\n",
    "def create_lagged_series(today=False,today_close=0):\n",
    "    if (today):\n",
    "        df = uvxy_df[['Pct Change']].iloc[1:]\n",
    "        lastclose = uvxy_df['Adj Close'][-1:].values[0]\n",
    "        newchange = (today_close-lastclose)/lastclose*100\n",
    "        df.loc[df.index.max() + datetime.timedelta(days=1)] = newchange\n",
    "    else:\n",
    "        df = uvxy_df[['Pct Change']].iloc[1:]\n",
    "\n",
    "    for x in range(0,inputSize):\n",
    "        df[\"Lag%s_Change\" % str(x+1)] = df['Pct Change'].shift(x+1)\n",
    "        \n",
    "    df = df[inputSize:]\n",
    "    return df\n",
    "\n",
    "X = create_lagged_series(False)\n",
    "y = uvxy_df['Pct Change'].iloc[1+inputSize:]\n",
    "print(X.tail())\n",
    "print(\"\");\n",
    "print(y.tail())\n",
    "print(X.shape)\n",
    "print(y.shape)"
   ]
  },
  {
   "cell_type": "code",
   "execution_count": 34,
   "metadata": {
    "collapsed": false
   },
   "outputs": [
    {
     "name": "stdout",
     "output_type": "stream",
     "text": [
      "Directional Accuracy: 100.0%\n",
      "[  7.34518824e+00  -1.59923331e+01   2.27859216e+01  -1.58824059e+00\n",
      "  -1.59249023e+01  -1.15628709e+01  -6.67192980e+00  -6.03192487e+00\n",
      "   3.83548894e+00  -5.23234122e+00  -4.08876706e+00  -1.18954050e+01\n",
      "   1.01780300e-02  -4.41380924e+00  -3.15196861e+00  -6.99795489e-01\n",
      "  -7.59408996e-01  -3.72077281e+00  -6.96685703e-01  -5.21696276e+00\n",
      "   5.33435052e+00  -4.98625503e+00  -1.02151573e+00  -1.88901816e+00\n",
      "  -4.83440734e+00]\n"
     ]
    },
    {
     "data": {
      "image/png": "[encoded data removed]",
      "text/plain": [
       "<matplotlib.figure.Figure at 0x7fea14c19358>"
      ]
     },
     "metadata": {},
     "output_type": "display_data"
    }
   ],
   "source": [
    "# Fit regression model\n",
    "rng = np.random.RandomState(1)\n",
    "rff = RandomForestRegressor(n_estimators=400, n_jobs=-1)\n",
    "\n",
    "rff.fit(X[:-testSize],y[:-testSize])\n",
    "rff_prediction = rff.predict(X[-testSize:])\n",
    "\n",
    "\n",
    "rffcount = 0\n",
    "for i in range(0,testSize):\n",
    "    if ( ((rff_prediction[i] < 0) and (y[-testSize:].values[i] < 0)) or ((rff_prediction[i] >= 0) and (y[-testSize:].values[i] >= 0)) ):\n",
    "        rffcount = rffcount + 1\n",
    "\n",
    "# print (\"rff: \" + str(rffcount/testSize*100.0))\n",
    "confidence = 0\n",
    "\n",
    "plt.plot(rff_prediction[-testSize:],'-g',label='prediction')\n",
    "confidence = rffcount/testSize*100.0\n",
    "print(\"Directional Accuracy: \" + str(confidence) + \"%\")\n",
    "print(rff_prediction[-testSize:])\n",
    "    \n",
    "plt.plot(y[-testSize:].values,'-b',label='data')\n",
    "plt.legend(loc='upper left')\n",
    "plt.show()"
   ]
  },
  {
   "cell_type": "code",
   "execution_count": 35,
   "metadata": {
    "collapsed": false
   },
   "outputs": [
    {
     "name": "stdout",
     "output_type": "stream",
     "text": [
      "Today's Close: $28.25\n",
      "\n",
      "\n",
      "Today's Predicted Change (Accuracy: 100.0): \n",
      "[Predicted Change] -> -9.35095663328%\n",
      "            Pct Change  Lag1_Change  Lag2_Change  Lag3_Change  Lag4_Change\n",
      "2016-07-22   -4.836193     5.427632    -5.148206    -0.465842    -3.736921\n",
      "2016-07-25   -0.983603    -4.836193     5.427632    -5.148206    -0.465842\n",
      "2016-07-26   -1.887424    -0.983603    -4.836193     5.427632    -5.148206\n",
      "2016-07-27   -4.657439    -1.887424    -0.983603    -4.836193     5.427632\n",
      "2016-07-28    0.000000    -4.657439    -1.887424    -0.983603    -4.836193\n",
      "\n",
      "Tomorrow Predicted Close: $25.6083547511\n"
     ]
    }
   ],
   "source": [
    "todayclose = uvxy_df['Adj Close'].values[-1:][0]\n",
    "\n",
    "print(\"Today's Close: $\" + str(todayclose))\n",
    "    \n",
    "print(\"\\n\")\n",
    "print(\"Today's Predicted Change (Accuracy: \"+str(confidence)+\"): \")\n",
    "\n",
    "tomorrow = rff.predict(create_lagged_series(True,todayclose))\n",
    "\n",
    "rff.fit(X,y)\n",
    "tomorrow = rff.predict(create_lagged_series(True,todayclose))\n",
    "print(\"[Predicted Change] -> \"+ str(tomorrow[0]) + \"%\")\n",
    "print(create_lagged_series(True,todayclose).tail())\n",
    "\n",
    "tomorrow_close = todayclose + (todayclose * tomorrow[0]/100.0)\n",
    "print(\"\\nTomorrow Predicted Close: $\" + str(tomorrow_close) )"
   ]
  },
  {
   "cell_type": "code",
   "execution_count": null,
   "metadata": {
    "collapsed": true
   },
   "outputs": [],
   "source": []
  }
 ],
 "metadata": {
  "kernelspec": {
   "display_name": "Python 3",
   "language": "python",
   "name": "python3"
  },
  "language_info": {
   "codemirror_mode": {
    "name": "ipython",
    "version": 3
   },
   "file_extension": ".py",
   "mimetype": "text/x-python",
   "name": "python",
   "nbconvert_exporter": "python",
   "pygments_lexer": "ipython3",
   "version": "3.5.1"
  }
 },
 "nbformat": 4,
 "nbformat_minor": 0
}
