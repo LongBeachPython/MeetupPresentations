{
 "cells": [
  {
   "cell_type": "code",
   "execution_count": 1,
   "metadata": {
    "collapsed": true
   },
   "outputs": [],
   "source": [
    "import webbrowser\n",
    "import tweepy\n",
    "import datetime\n",
    "import pickle\n",
    "import time"
   ]
  },
  {
   "cell_type": "code",
   "execution_count": 2,
   "metadata": {
    "collapsed": false
   },
   "outputs": [],
   "source": [
    "consumer_key=''\n",
    "consumer_secret=''\n",
    "\n",
    "auth = tweepy.OAuthHandler(consumer_key, consumer_secret)"
   ]
  },
  {
   "cell_type": "code",
   "execution_count": 7,
   "metadata": {
    "collapsed": true
   },
   "outputs": [],
   "source": [
    "auth = tweepy.OAuthHandler(consumer_key, consumer_secret)"
   ]
  },
  {
   "cell_type": "code",
   "execution_count": 8,
   "metadata": {
    "collapsed": false
   },
   "outputs": [
    {
     "data": {
      "text/plain": [
       "True"
      ]
     },
     "execution_count": 8,
     "metadata": {},
     "output_type": "execute_result"
    }
   ],
   "source": [
    "webbrowser.open(auth.get_authorization_url())"
   ]
  },
  {
   "cell_type": "code",
   "execution_count": 9,
   "metadata": {
    "collapsed": false
   },
   "outputs": [
    {
     "name": "stdout",
     "output_type": "stream",
     "text": [
      "Verification pin number from twitter.com: 2775905\n"
     ]
    }
   ],
   "source": [
    "pin = raw_input('Verification pin number from twitter.com: ').strip()"
   ]
  },
  {
   "cell_type": "code",
   "execution_count": 10,
   "metadata": {
    "collapsed": true
   },
   "outputs": [],
   "source": [
    "token = auth.get_access_token(verifier=pin)"
   ]
  },
  {
   "cell_type": "code",
   "execution_count": 11,
   "metadata": {
    "collapsed": true
   },
   "outputs": [],
   "source": [
    "auth.set_access_token(*token)"
   ]
  },
  {
   "cell_type": "code",
   "execution_count": 12,
   "metadata": {
    "collapsed": true
   },
   "outputs": [],
   "source": [
    "api = tweepy.API(auth)"
   ]
  },
  {
   "cell_type": "code",
   "execution_count": 13,
   "metadata": {
    "collapsed": false
   },
   "outputs": [
    {
     "name": "stdout",
     "output_type": "stream",
     "text": [
      "Gouthaman Balaraman\n"
     ]
    }
   ],
   "source": [
    "print api.me().name"
   ]
  },
  {
   "cell_type": "code",
   "execution_count": null,
   "metadata": {
    "collapsed": true
   },
   "outputs": [],
   "source": [
    "time.sleep(1)"
   ]
  },
  {
   "cell_type": "markdown",
   "metadata": {},
   "source": [
    "## Fetch Hillary Tweets"
   ]
  },
  {
   "cell_type": "code",
   "execution_count": 14,
   "metadata": {
    "collapsed": false
   },
   "outputs": [
    {
     "name": "stdout",
     "output_type": "stream",
     "text": [
      "Fetching iteration 1\n",
      "Fetching iteration 2\n",
      "Fetching iteration 3\n",
      "Fetching iteration 4\n",
      "Fetching iteration 5\n",
      "Fetching iteration 6\n",
      "Fetching iteration 7\n",
      "Fetching iteration 8\n",
      "Fetching iteration 9\n",
      "Fetching iteration 10\n",
      "Fetching iteration 11\n",
      "Fetching iteration 12\n",
      "Fetching iteration 13\n",
      "Fetching iteration 14\n",
      "Fetching iteration 15\n",
      "Fetching iteration 16\n",
      "Fetching iteration 17\n",
      "Fetching iteration 18\n"
     ]
    }
   ],
   "source": [
    "tweets = []\n",
    "screen_name = 'HillaryClinton'\n",
    "max_id = None\n",
    "max_time = datetime.datetime(2016,1,1)\n",
    "ctr = 1\n",
    "while True:\n",
    "    print \"Fetching iteration %d\" % ctr\n",
    "    t = api.user_timeline(screen_name=screen_name,count=200,max_id=max_id)\n",
    "    time.sleep(0.5)\n",
    "    tweets.extend(t)\n",
    "    if len(t):\n",
    "        max_id = t[-1].id -1\n",
    "        last_date = t[-1].created_at\n",
    "        if last_date < max_time:\n",
    "            break\n",
    "    else:\n",
    "        break\n",
    "    ctr += 1"
   ]
  },
  {
   "cell_type": "code",
   "execution_count": 18,
   "metadata": {
    "collapsed": false
   },
   "outputs": [
    {
     "data": {
      "text/plain": [
       "datetime.datetime(2016, 6, 21, 22, 8, 42)"
      ]
     },
     "execution_count": 18,
     "metadata": {},
     "output_type": "execute_result"
    }
   ],
   "source": [
    "tweets[-1].created_at"
   ]
  },
  {
   "cell_type": "code",
   "execution_count": 19,
   "metadata": {
    "collapsed": false
   },
   "outputs": [],
   "source": [
    "with open(\"hillary.pkl\",\"wb\") as f:\n",
    "    pickle.dump(tweets, f)"
   ]
  },
  {
   "cell_type": "markdown",
   "metadata": {},
   "source": [
    "## Fetch Donald Tweets"
   ]
  },
  {
   "cell_type": "code",
   "execution_count": 20,
   "metadata": {
    "collapsed": false
   },
   "outputs": [
    {
     "name": "stdout",
     "output_type": "stream",
     "text": [
      "Fetching iteration 1\n",
      "Fetching iteration 2\n",
      "Fetching iteration 3\n",
      "Fetching iteration 4\n",
      "Fetching iteration 5\n",
      "Fetching iteration 6\n",
      "Fetching iteration 7\n",
      "Fetching iteration 8\n",
      "Fetching iteration 9\n",
      "Fetching iteration 10\n",
      "Fetching iteration 11\n",
      "Fetching iteration 12\n",
      "Fetching iteration 13\n",
      "Fetching iteration 14\n",
      "Fetching iteration 15\n",
      "Fetching iteration 16\n",
      "Fetching iteration 17\n",
      "Fetching iteration 18\n"
     ]
    }
   ],
   "source": [
    "tweets = []\n",
    "screen_name = 'realDonaldTrump'\n",
    "max_id = None\n",
    "max_time = datetime.datetime(2016,1,1)\n",
    "ctr = 1\n",
    "while True:\n",
    "    print \"Fetching iteration %d\" % ctr\n",
    "    t = api.user_timeline(screen_name=screen_name,count=200,max_id=max_id)\n",
    "    tweets.extend(t)\n",
    "    if len(t):\n",
    "        max_id = t[-1].id -1\n",
    "        last_date = t[-1].created_at\n",
    "        if last_date < max_time:\n",
    "            break\n",
    "    else:\n",
    "        break\n",
    "    ctr += 1"
   ]
  },
  {
   "cell_type": "code",
   "execution_count": 21,
   "metadata": {
    "collapsed": true
   },
   "outputs": [],
   "source": [
    "with open(\"donald.pkl\",\"wb\") as f:\n",
    "    pickle.dump(tweets, f)"
   ]
  },
  {
   "cell_type": "code",
   "execution_count": 23,
   "metadata": {
    "collapsed": false
   },
   "outputs": [
    {
     "data": {
      "text/plain": [
       "u'\"@paintonmyjeans: If I owned a big company that was failing, I\\'d hire DonaldTrump to make it great again-Rubio/Cruz wouldnt be considered\"'"
      ]
     },
     "execution_count": 23,
     "metadata": {},
     "output_type": "execute_result"
    }
   ],
   "source": [
    "tweets[-1].text"
   ]
  },
  {
   "cell_type": "code",
   "execution_count": null,
   "metadata": {
    "collapsed": true
   },
   "outputs": [],
   "source": []
  }
 ],
 "metadata": {
  "kernelspec": {
   "display_name": "Python 2",
   "language": "python",
   "name": "python2"
  },
  "language_info": {
   "codemirror_mode": {
    "name": "ipython",
    "version": 2
   },
   "file_extension": ".py",
   "mimetype": "text/x-python",
   "name": "python",
   "nbconvert_exporter": "python",
   "pygments_lexer": "ipython2",
   "version": "2.7.12"
  }
 },
 "nbformat": 4,
 "nbformat_minor": 1
}
